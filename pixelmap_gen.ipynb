{
 "cells": [
  {
   "cell_type": "markdown",
   "metadata": {},
   "source": [
    "# Generating Pixel Maps from .edf data"
   ]
  },
  {
   "cell_type": "code",
   "execution_count": 190,
   "metadata": {},
   "outputs": [],
   "source": [
    "import numpy as np\n",
    "import pandas as pd\n",
    "from sklearn import preprocessing\n",
    "\n",
    "from mne import Epochs, pick_types, find_events\n",
    "from mne.io import concatenate_raws, read_raw_edf\n",
    "\n",
    "import dhedfreader\n",
    "from PIL import Image"
   ]
  },
  {
   "cell_type": "markdown",
   "metadata": {},
   "source": [
    "## Loading the data"
   ]
  },
  {
   "cell_type": "code",
   "execution_count": 222,
   "metadata": {
    "scrolled": true
   },
   "outputs": [
    {
     "name": "stdout",
     "output_type": "stream",
     "text": [
      "Extracting EDF parameters from data/SC4001E0-PSG.edf...\n",
      "EDF file detected\n",
      "Setting channel info structure...\n",
      "Creating raw.info structure...\n"
     ]
    },
    {
     "name": "stderr",
     "output_type": "stream",
     "text": [
      "<ipython-input-222-915717e81f69>:2: DeprecationWarning: stim_channel will default to \"auto\" in 0.17 but change to False in 0.18, and will be removed in 0.19\n",
      "  raw = read_raw_edf('data/SC4001E0-PSG.edf')\n",
      "<ipython-input-222-915717e81f69>:2: RuntimeWarning: Interpolating stim channel. Events may jitter.\n",
      "  raw = read_raw_edf('data/SC4001E0-PSG.edf')\n"
     ]
    },
    {
     "name": "stdout",
     "output_type": "stream",
     "text": [
      "Converting time column to int64...\n",
      "Converting time column to int64...\n",
      "Converting time column to int64...\n",
      "Converting time column to int64...\n"
     ]
    }
   ],
   "source": [
    "first = pd.DataFrame()\n",
    "raw = read_raw_edf('data/SC4001E0-PSG.edf')\n",
    "sampling_rate = raw.info['sfreq']\n",
    "\n",
    "raw_eeg_fpz = raw.to_data_frame(scaling_time=100.0)['EEG Fpz-Cz']\n",
    "raw_eeg_fpz = raw_eeg_fpz.to_frame()\n",
    "raw_eeg_fpz.set_index(np.arange(len(raw_eeg_fpz)))\n",
    "raw_eeg_fpz = raw_eeg_fpz.values.tolist()\n",
    "\n",
    "raw_eeg_pz = raw.to_data_frame(scaling_time=100.0)['EEG Pz-Oz']\n",
    "raw_eeg_pz = raw_eeg_pz.to_frame()\n",
    "raw_eeg_pz.set_index(np.arange(len(raw_eeg_pz)))\n",
    "raw_eeg_pz = raw_eeg_pz.values.tolist()\n",
    "\n",
    "raw_eog = raw.to_data_frame(scaling_time=100.0)['EOG horizontal']\n",
    "raw_eog = raw_eog.to_frame()\n",
    "raw_eog.set_index(np.arange(len(raw_eog)))\n",
    "raw_eog = raw_eog.values.tolist()\n",
    "\n",
    "raw_emg = raw.to_data_frame(scaling_time=100.0)['EMG submental']\n",
    "raw_emg = raw_emg.to_frame()\n",
    "raw_emg.set_index(np.arange(len(raw_emg)))\n",
    "raw_emg = raw_emg.values.tolist()\n",
    "\n",
    "first['EEG Fpz-Cz'] = raw_eeg_fpz\n",
    "first['EEG Pz-Oz'] = raw_eeg_pz\n",
    "first['EOG horizontal'] = raw_eog\n",
    "first['EMG submental'] = raw_emg"
   ]
  },
  {
   "cell_type": "code",
   "execution_count": 192,
   "metadata": {},
   "outputs": [],
   "source": [
    "def epoch_gen(data, epoch_length, fs):\n",
    "    print(\"Generating Epochs\")\n",
    "    eeg_data = data\n",
    "    L = epoch_length * fs # signal length\n",
    "    epochs = np.reshape(eeg_data, (-1, L))\n",
    "    return epochs"
   ]
  },
  {
   "cell_type": "code",
   "execution_count": 193,
   "metadata": {},
   "outputs": [],
   "source": [
    "def extract_features_from_epochs(epochs, fs, epoch_length):\n",
    "    print(\"Extracting Features\")\n",
    "    N = epochs.shape[0]\n",
    "    L = epoch_length * fs # signal length\n",
    "    f = np.linspace(0, L-1, L) * fs/L\n",
    "    delta1, delta2, theta1, theta2, alpha1, alpha2, beta1, beta2 = 0, 4, 4, 8, 8, 13, 13, 30\n",
    "    all_indices = np.where((f <= beta2))    \n",
    "    delta_indices = np.where((f >= delta1) & (f <= delta2))\n",
    "    theta_indices = np.where((f >= theta1) & (f <= theta2))\n",
    "    alpha_indices = np.where((f >= alpha1) & (f <= alpha2))\n",
    "    beta_indices = np.where((f >= beta1) & (f <= beta2))\n",
    "    nr_features = 6 # number of features to be calculated\n",
    "    features = np.zeros((N, nr_features))\n",
    "    # calculation of delta, theta, alpha and beta band power ratios\n",
    "    for index in range(N):    \n",
    "        epoch = epochs[index, :]\n",
    "        Y = abs(np.fft.fft(epoch))\n",
    "        mean_total_power = np.mean(Y[all_indices])\n",
    "        features[index,:] = (mean_total_power, np.mean(f[all_indices] * Y[all_indices]) / mean_total_power, \n",
    "        np.mean(Y[delta_indices]) / mean_total_power, np.mean(Y[theta_indices]) / mean_total_power, \n",
    "        np.mean(Y[alpha_indices]) / mean_total_power, np.mean(Y[beta_indices]) / mean_total_power)\n",
    "    return preprocessing.scale(features)"
   ]
  },
  {
   "cell_type": "code",
   "execution_count": 194,
   "metadata": {},
   "outputs": [],
   "source": [
    "def rescale_linear(array, new_min=0, new_max=255):\n",
    "    \"\"\"Rescale an arrary linearly.\"\"\"\n",
    "    minimum, maximum = np.min(array), np.max(array)\n",
    "    m = (new_max - new_min) / (maximum - minimum)\n",
    "    b = new_min - m * minimum\n",
    "    return m * array + b"
   ]
  },
  {
   "cell_type": "code",
   "execution_count": 195,
   "metadata": {},
   "outputs": [
    {
     "name": "stdout",
     "output_type": "stream",
     "text": [
      "Generating Epochs\n",
      "Extracting Features\n"
     ]
    }
   ],
   "source": [
    "eeg_data_1 = epoch_gen(raw_eeg_fpz, 30, 100)\n",
    "eeg_features_1 = extract_features_from_epochs(eeg_data_1, 30, 100)\n",
    "eeg_features_1 = rescale_linear(eeg_features_1)"
   ]
  },
  {
   "cell_type": "code",
   "execution_count": 196,
   "metadata": {},
   "outputs": [
    {
     "name": "stdout",
     "output_type": "stream",
     "text": [
      "Generating Epochs\n",
      "Extracting Features\n"
     ]
    }
   ],
   "source": [
    "eeg_data_2 = epoch_gen(raw_eeg_pz, 30, 100)\n",
    "eeg_features_2 = extract_features_from_epochs(eeg_data_2, 30, 100)\n",
    "eeg_features_2 = rescale_linear(eeg_features_2)"
   ]
  },
  {
   "cell_type": "code",
   "execution_count": 207,
   "metadata": {},
   "outputs": [
    {
     "name": "stdout",
     "output_type": "stream",
     "text": [
      "Generating Epochs\n",
      "Extracting Features\n"
     ]
    }
   ],
   "source": [
    "eog_data = epoch_gen(raw_eog, 30, 100)\n",
    "eog_features = extract_features_from_epochs(eog_data, 30, 100)\n",
    "eog_features = rescale_linear(eog_features)"
   ]
  },
  {
   "cell_type": "code",
   "execution_count": 208,
   "metadata": {},
   "outputs": [
    {
     "name": "stdout",
     "output_type": "stream",
     "text": [
      "Generating Epochs\n",
      "Extracting Features\n"
     ]
    }
   ],
   "source": [
    "emg_data = epoch_gen(raw_emg, 30, 100)\n",
    "emg_features = extract_features_from_epochs(emg_data, 30, 100)\n",
    "emg_features = rescale_linear(emg_features)"
   ]
  },
  {
   "cell_type": "code",
   "execution_count": 210,
   "metadata": {},
   "outputs": [],
   "source": [
    "img = Image.new('RGB', (6,4), \"white\") # create a new black image\n",
    "pixelMap = img.load() # create the pixel map\n",
    "\n",
    "for j in range(img.size[0]):\n",
    "    pixelMap[j, 0] = (int(eeg_features_1[0][j]), 0, 0)\n",
    "\n",
    "for j in range(img.size[0]):\n",
    "    pixelMap[j, 1] = (int(eeg_features_2[0][j]), 0, 0)\n",
    "\n",
    "for j in range(img.size[0]):\n",
    "    pixelMap[j, 2] = (0, int(eog_features[0][j]), 0)\n",
    "\n",
    "for j in range(img.size[0]):\n",
    "    pixelMap[j, 3] = (0, 0, int(emg_features[0][j]))\n",
    "    \n",
    "\n",
    "img.show()"
   ]
  },
  {
   "cell_type": "markdown",
   "metadata": {},
   "source": [
    "# EMG Power Spectrum Analysis"
   ]
  },
  {
   "cell_type": "code",
   "execution_count": 244,
   "metadata": {},
   "outputs": [
    {
     "data": {
      "text/plain": [
       "[<matplotlib.lines.Line2D at 0x1200c9e48>]"
      ]
     },
     "execution_count": 244,
     "metadata": {},
     "output_type": "execute_result"
    },
    {
     "data": {
      "image/png": "[encoded data removed]",
      "text/plain": [
       "<Figure size 432x288 with 1 Axes>"
      ]
     },
     "metadata": {
      "needs_background": "light"
     },
     "output_type": "display_data"
    }
   ],
   "source": [
    "from __future__ import division\n",
    "import numpy as np\n",
    "import matplotlib.pyplot as plt\n",
    "\n",
    "data = np.array(raw_emg[:3000])\n",
    "\n",
    "ps = np.abs(np.fft.fft(data))**2\n",
    "\n",
    "time_step = 1 / 100\n",
    "freqs = np.fft.fftfreq(data.size, time_step)\n",
    "idx = np.argsort(freqs)\n",
    "\n",
    "\n",
    "plt.xlabel(\"frequency\")\n",
    "plt.ylabel(\"power spectrum\")\n",
    "plt.plot(freqs[idx], ps[idx])"
   ]
  },
  {
   "cell_type": "code",
   "execution_count": null,
   "metadata": {},
   "outputs": [],
   "source": []
  },
  {
   "cell_type": "code",
   "execution_count": null,
   "metadata": {},
   "outputs": [],
   "source": []
  },
  {
   "cell_type": "code",
   "execution_count": null,
   "metadata": {},
   "outputs": [],
   "source": []
  }
 ],
 "metadata": {
  "kernelspec": {
   "display_name": "Python 3",
   "language": "python",
   "name": "python3"
  },
  "language_info": {
   "codemirror_mode": {
    "name": "ipython",
    "version": 3
   },
   "file_extension": ".py",
   "mimetype": "text/x-python",
   "name": "python",
   "nbconvert_exporter": "python",
   "pygments_lexer": "ipython3",
   "version": "3.6.5"
  }
 },
 "nbformat": 4,
 "nbformat_minor": 2
}
