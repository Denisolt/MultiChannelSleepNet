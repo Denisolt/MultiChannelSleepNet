{
 "cells": [
  {
   "cell_type": "code",
   "execution_count": 79,
   "metadata": {},
   "outputs": [],
   "source": [
    "import argparse\n",
    "import glob\n",
    "import math\n",
    "import ntpath\n",
    "import os\n",
    "import shutil\n",
    "import urllib\n",
    "import urllib2\n",
    "\n",
    "from datetime import datetime\n",
    "\n",
    "import numpy as np\n",
    "import pandas as pd\n",
    "\n",
    "from mne import Epochs, pick_types, find_events\n",
    "from mne.io import concatenate_raws, read_raw_edf\n",
    "\n",
    "import dhedfreader"
   ]
  },
  {
   "cell_type": "code",
   "execution_count": 80,
   "metadata": {},
   "outputs": [],
   "source": [
    "# Label values\n",
    "W = 0\n",
    "N1 = 1\n",
    "N2 = 2\n",
    "N3 = 3\n",
    "REM = 4\n",
    "UNKNOWN = 5\n",
    "\n",
    "stage_dict = {\n",
    "    \"W\": W,\n",
    "    \"N1\": N1,\n",
    "    \"N2\": N2,\n",
    "    \"N3\": N3,\n",
    "    \"REM\": REM,\n",
    "    \"UNKNOWN\": UNKNOWN\n",
    "}\n",
    "\n",
    "class_dict = {\n",
    "    0: \"W\",\n",
    "    1: \"N1\",\n",
    "    2: \"N2\",\n",
    "    3: \"N3\",\n",
    "    4: \"REM\",\n",
    "    5: \"UNKNOWN\"\n",
    "}\n",
    "\n",
    "ann2label = {\n",
    "    \"Sleep stage W\": 0,\n",
    "    \"Sleep stage 1\": 1,\n",
    "    \"Sleep stage 2\": 2,\n",
    "    \"Sleep stage 3\": 3,\n",
    "    \"Sleep stage 4\": 3,\n",
    "    \"Sleep stage R\": 4,\n",
    "    \"Sleep stage ?\": 5,\n",
    "    \"Movement time\": 5\n",
    "}\n",
    "\n",
    "EPOCH_SEC_SIZE = 30"
   ]
  },
  {
   "cell_type": "code",
   "execution_count": null,
   "metadata": {},
   "outputs": [],
   "source": []
  },
  {
   "cell_type": "code",
   "execution_count": 56,
   "metadata": {},
   "outputs": [
    {
     "name": "stdout",
     "output_type": "stream",
     "text": [
      "Extracting edf Parameters from data/SC4001E0-PSG.edf...\n",
      "EDF file detected\n",
      "Setting channel info structure...\n",
      "Created Raw.info structure...\n",
      "Ready.\n",
      "Converting time column to int64...\n",
      "Converting time column to int64...\n",
      "Converting time column to int64...\n",
      "Converting time column to int64...\n",
      "Converting time column to int64...\n"
     ]
    },
    {
     "data": {
      "text/html": [
       "<div>\n",
       "<style scoped>\n",
       "    .dataframe tbody tr th:only-of-type {\n",
       "        vertical-align: middle;\n",
       "    }\n",
       "\n",
       "    .dataframe tbody tr th {\n",
       "        vertical-align: top;\n",
       "    }\n",
       "\n",
       "    .dataframe thead th {\n",
       "        text-align: right;\n",
       "    }\n",
       "</style>\n",
       "<table border=\"1\" class=\"dataframe\">\n",
       "  <thead>\n",
       "    <tr style=\"text-align: right;\">\n",
       "      <th></th>\n",
       "      <th>EEG Fpz-Cz</th>\n",
       "      <th>EEG Pz-Oz</th>\n",
       "      <th>EOG horizontal</th>\n",
       "      <th>EMG submental</th>\n",
       "      <th>Event Marker</th>\n",
       "    </tr>\n",
       "  </thead>\n",
       "  <tbody>\n",
       "    <tr>\n",
       "      <th>0</th>\n",
       "      <td>5.016850</td>\n",
       "      <td>-2.467399</td>\n",
       "      <td>16.508669</td>\n",
       "      <td>3.552</td>\n",
       "      <td>920000000.0</td>\n",
       "    </tr>\n",
       "    <tr>\n",
       "      <th>1</th>\n",
       "      <td>-2.578755</td>\n",
       "      <td>1.467399</td>\n",
       "      <td>16.015873</td>\n",
       "      <td>3.552</td>\n",
       "      <td>919000000.0</td>\n",
       "    </tr>\n",
       "    <tr>\n",
       "      <th>2</th>\n",
       "      <td>1.359707</td>\n",
       "      <td>-4.098901</td>\n",
       "      <td>9.609524</td>\n",
       "      <td>3.554</td>\n",
       "      <td>918000000.0</td>\n",
       "    </tr>\n",
       "    <tr>\n",
       "      <th>3</th>\n",
       "      <td>-2.391209</td>\n",
       "      <td>-2.659341</td>\n",
       "      <td>1.724786</td>\n",
       "      <td>3.556</td>\n",
       "      <td>917000000.0</td>\n",
       "    </tr>\n",
       "    <tr>\n",
       "      <th>4</th>\n",
       "      <td>-5.204396</td>\n",
       "      <td>-0.739927</td>\n",
       "      <td>7.638339</td>\n",
       "      <td>3.558</td>\n",
       "      <td>917000000.0</td>\n",
       "    </tr>\n",
       "    <tr>\n",
       "      <th>5</th>\n",
       "      <td>-7.454945</td>\n",
       "      <td>-1.411722</td>\n",
       "      <td>2.710379</td>\n",
       "      <td>3.558</td>\n",
       "      <td>916000000.0</td>\n",
       "    </tr>\n",
       "    <tr>\n",
       "      <th>6</th>\n",
       "      <td>-8.298901</td>\n",
       "      <td>-0.931868</td>\n",
       "      <td>0.246398</td>\n",
       "      <td>3.560</td>\n",
       "      <td>915000000.0</td>\n",
       "    </tr>\n",
       "    <tr>\n",
       "      <th>7</th>\n",
       "      <td>-6.892308</td>\n",
       "      <td>1.851282</td>\n",
       "      <td>-0.739194</td>\n",
       "      <td>3.562</td>\n",
       "      <td>914000000.0</td>\n",
       "    </tr>\n",
       "    <tr>\n",
       "      <th>8</th>\n",
       "      <td>-3.704029</td>\n",
       "      <td>-0.835897</td>\n",
       "      <td>1.231990</td>\n",
       "      <td>3.562</td>\n",
       "      <td>914000000.0</td>\n",
       "    </tr>\n",
       "    <tr>\n",
       "      <th>9</th>\n",
       "      <td>-0.984615</td>\n",
       "      <td>-0.835897</td>\n",
       "      <td>5.174359</td>\n",
       "      <td>3.564</td>\n",
       "      <td>913000000.0</td>\n",
       "    </tr>\n",
       "  </tbody>\n",
       "</table>\n",
       "</div>"
      ],
      "text/plain": [
       "   EEG Fpz-Cz  EEG Pz-Oz  EOG horizontal  EMG submental  Event Marker\n",
       "0    5.016850  -2.467399       16.508669          3.552   920000000.0\n",
       "1   -2.578755   1.467399       16.015873          3.552   919000000.0\n",
       "2    1.359707  -4.098901        9.609524          3.554   918000000.0\n",
       "3   -2.391209  -2.659341        1.724786          3.556   917000000.0\n",
       "4   -5.204396  -0.739927        7.638339          3.558   917000000.0\n",
       "5   -7.454945  -1.411722        2.710379          3.558   916000000.0\n",
       "6   -8.298901  -0.931868        0.246398          3.560   915000000.0\n",
       "7   -6.892308   1.851282       -0.739194          3.562   914000000.0\n",
       "8   -3.704029  -0.835897        1.231990          3.562   914000000.0\n",
       "9   -0.984615  -0.835897        5.174359          3.564   913000000.0"
      ]
     },
     "execution_count": 56,
     "metadata": {},
     "output_type": "execute_result"
    }
   ],
   "source": [
    "first = pd.DataFrame()\n",
    "raw = read_raw_edf('data/SC4001E0-PSG.edf')\n",
    "sampling_rate = raw.info['sfreq']\n",
    "\n",
    "\n",
    "raw_eeg_fpz = raw.to_data_frame(scaling_time=100.0)['EEG Fpz-Cz']\n",
    "raw_eeg_fpz = raw_eeg_fpz.to_frame()\n",
    "raw_eeg_fpz.set_index(np.arange\n",
    "                      (len(raw_eeg_fpz)))\n",
    "\n",
    "raw_eeg_pz = raw.to_data_frame(scaling_time=100.0)['EEG Pz-Oz']\n",
    "raw_eeg_pz = raw_eeg_pz.to_frame()\n",
    "raw_eeg_pz.set_index(np.arange(len(raw_eeg_pz)))\n",
    "\n",
    "raw_eog = raw.to_data_frame(scaling_time=100.0)['EOG horizontal']\n",
    "raw_eog = raw_eog.to_frame()\n",
    "raw_eog.set_index(np.arange(len(raw_eog)))\n",
    "\n",
    "raw_emg = raw.to_data_frame(scaling_time=100.0)['EMG submental']\n",
    "raw_emg = raw_emg.to_frame()\n",
    "raw_emg.set_index(np.arange(len(raw_emg)))\n",
    "\n",
    "event_marker = raw.to_data_frame(scaling_time=100.0)['Event marker']\n",
    "event_marker = event_marker.to_frame()\n",
    "event_marker.set_index(np.arange(len(event_marker)))\n",
    "\n",
    "first['EEG Fpz-Cz'] = raw_eeg_fpz\n",
    "first['EEG Pz-Oz'] = raw_eeg_pz\n",
    "first['EOG horizontal'] = raw_eog\n",
    "first['EMG submental'] = raw_emg\n",
    "first['Event Marker'] = event_marker\n",
    "first.head(10)"
   ]
  },
  {
   "cell_type": "code",
   "execution_count": 21,
   "metadata": {},
   "outputs": [
    {
     "data": {
      "text/plain": [
       "Text(0,0.5,u'EEG Fpz-Cz data')"
      ]
     },
     "execution_count": 21,
     "metadata": {},
     "output_type": "execute_result"
    },
    {
     "data": {
      "image/png": "[encoded data removed]",
      "text/plain": [
       "<matplotlib.figure.Figure at 0x1368d1c90>"
      ]
     },
     "metadata": {},
     "output_type": "display_data"
    }
   ],
   "source": [
    "import matplotlib.pyplot as plt\n",
    "import plotly.plotly as py\n",
    "\n",
    "epoch_size = 350\n",
    "time = list(xrange(epoch_size))\n",
    "plt.plot(time, first['EEG Fpz-Cz'].head(350))\n",
    "plt.xlabel('time (ms)')\n",
    "plt.ylabel('EEG Fpz-Cz data')"
   ]
  },
  {
   "cell_type": "code",
   "execution_count": 107,
   "metadata": {
    "scrolled": false
   },
   "outputs": [
    {
     "data": {
      "text/plain": [
       "[<matplotlib.lines.Line2D at 0x117fb2bd0>]"
      ]
     },
     "execution_count": 107,
     "metadata": {},
     "output_type": "execute_result"
    },
    {
     "data": {
      "image/png": "[encoded data removed]",
      "text/plain": [
       "<matplotlib.figure.Figure at 0x137648450>"
      ]
     },
     "metadata": {},
     "output_type": "display_data"
    }
   ],
   "source": [
    "from __future__ import division\n",
    "\n",
    "data = first['EEG Fpz-Cz'].head(350)\n",
    "ps = np.abs(np.fft.fft(data))**2\n",
    "\n",
    "time_step = 1 / 100\n",
    "freqs = np.fft.fftfreq(data.size, time_step)\n",
    "idx = np.argsort(freqs)\n",
    "plt.xlabel(\"frequency\")\n",
    "plt.ylabel(\"power spectrum\")\n",
    "plt.plot(freqs[idx], ps[idx])"
   ]
  },
  {
   "cell_type": "code",
   "execution_count": 102,
   "metadata": {
    "scrolled": true
   },
   "outputs": [
    {
     "data": {
      "text/plain": [
       "49.71428571428571"
      ]
     },
     "execution_count": 102,
     "metadata": {},
     "output_type": "execute_result"
    }
   ],
   "source": [
    "max(freqs)"
   ]
  },
  {
   "cell_type": "raw",
   "metadata": {},
   "source": [
    "perform EEG fft with 3 frequency ranges. "
   ]
  },
  {
   "cell_type": "markdown",
   "metadata": {},
   "source": [
    "## perform Energy Calculation in Frequency Domain \n",
    "### using Parsevals theorem:\n",
    "![alt text](https://wikimedia.org/api/rest_v1/media/math/render/svg/bd01ef048644b8295d7e2332488c2013ec04b742)\n"
   ]
  },
  {
   "cell_type": "code",
   "execution_count": 112,
   "metadata": {
    "scrolled": true
   },
   "outputs": [
    {
     "name": "stdout",
     "output_type": "stream",
     "text": [
      "Energy in Frequency Domain = 336442.416185\n"
     ]
    }
   ],
   "source": [
    "vals = first['EEG Fpz-Cz'].head(350).values\n",
    "FFT = np.fft.fft(vals)\n",
    "freq_energy = np.sum(np.abs(FFT)**2)/data.size\n",
    "\n",
    "print 'Energy in Frequency Domain = %f'%freq_energy"
   ]
  },
  {
   "cell_type": "code",
   "execution_count": 83,
   "metadata": {},
   "outputs": [
    {
     "data": {
      "text/plain": [
       "Text(0,0.5,u'Mean band Amplitude')"
      ]
     },
     "execution_count": 83,
     "metadata": {},
     "output_type": "execute_result"
    },
    {
     "data": {
      "image/png": "[encoded data removed]",
      "text/plain": [
       "<matplotlib.figure.Figure at 0x111a38d10>"
      ]
     },
     "metadata": {},
     "output_type": "display_data"
    }
   ],
   "source": [
    "fs = 100                                # Sampling rate (100 Hz)\n",
    "data = first['EEG Fpz-Cz'].head(350)    # 3.5 sec of data b/w 0.0-100.0\n",
    "\n",
    "# Get real amplitudes of FFT (only in postive frequencies)\n",
    "fft_vals = np.absolute(np.fft.rfft(data))\n",
    "\n",
    "# Get frequencies for amplitudes in Hz\n",
    "fft_freq = np.fft.rfftfreq(len(data), 1.0/fs)\n",
    "\n",
    "# Define EEG bands\n",
    "eeg_bands = {'Delta': (0, 4),\n",
    "             'Theta': (4, 8),\n",
    "             'Alpha': (8, 12),\n",
    "             'Beta': (12, 30),\n",
    "             'Gamma': (30, 45)}\n",
    "\n",
    "# Take the mean of the fft amplitude for each EEG band\n",
    "eeg_band_fft = dict()\n",
    "for band in eeg_bands:  \n",
    "    freq_ix = np.where((fft_freq >= eeg_bands[band][0]) & \n",
    "                       (fft_freq <= eeg_bands[band][1]))[0]\n",
    "    eeg_band_fft[band] = np.mean(fft_vals[freq_ix])\n",
    "\n",
    "# Plot the data \n",
    "df = pd.DataFrame(columns=['band', 'val'])\n",
    "df['band'] = eeg_bands.keys()\n",
    "df['val'] = [eeg_band_fft[band] for band in eeg_bands]\n",
    "ax = df.plot.bar(x='band', y='val', legend=False)\n",
    "ax.set_xlabel(\"EEG band\")\n",
    "ax.set_ylabel(\"Mean band Amplitude\")"
   ]
  },
  {
   "cell_type": "code",
   "execution_count": 106,
   "metadata": {
    "scrolled": false
   },
   "outputs": [],
   "source": [
    "# import matplotlib.pyplot as plt\n",
    "# import plotly.plotly as py\n",
    "\n",
    "# epoch_size = len(first['EMG submental'])\n",
    "# time = list(xrange(epoch_size))\n",
    "# plt.plot(time, first['EMG submental'])\n",
    "# plt.xlabel('time (ms)')\n",
    "# plt.ylabel('EMG data')"
   ]
  },
  {
   "cell_type": "code",
   "execution_count": 68,
   "metadata": {},
   "outputs": [
    {
     "ename": "TypeError",
     "evalue": "tfr_morlet() got an unexpected keyword argument 'epoch'",
     "output_type": "error",
     "traceback": [
      "\u001b[0;31m---------------------------------------------------------------------------\u001b[0m",
      "\u001b[0;31mTypeError\u001b[0m                                 Traceback (most recent call last)",
      "\u001b[0;32m<ipython-input-68-a2502dc762bb>\u001b[0m in \u001b[0;36m<module>\u001b[0;34m()\u001b[0m\n\u001b[1;32m     14\u001b[0m \u001b[0;34m\u001b[0m\u001b[0m\n\u001b[1;32m     15\u001b[0m power, itc = tfr_morlet(epoch=0, freqs=freqs, n_cycles=n_cycles, use_fft=True,\n\u001b[0;32m---> 16\u001b[0;31m                         return_itc=True, decim=3, n_jobs=1)\n\u001b[0m\u001b[1;32m     17\u001b[0m \u001b[0;34m\u001b[0m\u001b[0m\n\u001b[1;32m     18\u001b[0m \u001b[0mfig\u001b[0m\u001b[0;34m,\u001b[0m \u001b[0maxis\u001b[0m \u001b[0;34m=\u001b[0m \u001b[0mplt\u001b[0m\u001b[0;34m.\u001b[0m\u001b[0msubplots\u001b[0m\u001b[0;34m(\u001b[0m\u001b[0;36m1\u001b[0m\u001b[0;34m,\u001b[0m \u001b[0;36m2\u001b[0m\u001b[0;34m,\u001b[0m \u001b[0mfigsize\u001b[0m\u001b[0;34m=\u001b[0m\u001b[0;34m(\u001b[0m\u001b[0;36m7\u001b[0m\u001b[0;34m,\u001b[0m \u001b[0;36m4\u001b[0m\u001b[0;34m)\u001b[0m\u001b[0;34m)\u001b[0m\u001b[0;34m\u001b[0m\u001b[0m\n",
      "\u001b[0;31mTypeError\u001b[0m: tfr_morlet() got an unexpected keyword argument 'epoch'"
     ]
    }
   ],
   "source": [
    "events = mne.find_events(raw, stim_channel='EEG Fpz-Cz')\n",
    "# picks MEG gradiometers\n",
    "picks = mne.pick_types(raw.info,eeg=True, eog=True, stim=False)\n",
    "\n",
    "# Construct Epochs\n",
    "tmin, tmax = -1., 3.\n",
    "baseline = (None, 0)\n",
    "\n",
    "\n",
    "\n",
    "# define frequencies of interest (log-spaced)\n",
    "freqs = np.logspace(*np.log10([6, 35]), num=8)\n",
    "n_cycles = freqs / 2.  # different number of cycle per frequency\n",
    "\n",
    "power, itc = tfr_morlet(epoch=0, freqs=freqs, n_cycles=n_cycles, use_fft=True,\n",
    "                        return_itc=True, decim=3, n_jobs=1)\n",
    "\n",
    "fig, axis = plt.subplots(1, 2, figsize=(7, 4))\n",
    "power.plot_topomap(ch_type='grad', tmin=0.5, tmax=1.5, fmin=8, fmax=12,\n",
    "                   baseline=(-0.5, 0), mode='logratio', axes=axis[0],\n",
    "                   title='Alpha', vmax=0.45, show=False)\n",
    "power.plot_topomap(ch_type='grad', tmin=0.5, tmax=1.5, fmin=13, fmax=25,\n",
    "                   baseline=(-0.5, 0), mode='logratio', axes=axis[1],\n",
    "                   title='Beta', vmax=0.45, show=False)\n",
    "mne.viz.tight_layout()\n",
    "plt.show()"
   ]
  },
  {
   "cell_type": "code",
   "execution_count": 54,
   "metadata": {
    "scrolled": true
   },
   "outputs": [
    {
     "data": {
      "text/plain": [
       "[u'EEG Fpz-Cz',\n",
       " u'EEG Pz-Oz',\n",
       " u'EOG horizontal',\n",
       " u'Resp oro-nasal',\n",
       " u'EMG submental',\n",
       " u'Temp rectal',\n",
       " u'Event marker']"
      ]
     },
     "execution_count": 54,
     "metadata": {},
     "output_type": "execute_result"
    }
   ],
   "source": [
    "raw.ch_names"
   ]
  },
  {
   "cell_type": "code",
   "execution_count": 69,
   "metadata": {},
   "outputs": [
    {
     "ename": "NameError",
     "evalue": "name 'ann_fnames' is not defined",
     "output_type": "error",
     "traceback": [
      "\u001b[0;31m---------------------------------------------------------------------------\u001b[0m",
      "\u001b[0;31mNameError\u001b[0m                                 Traceback (most recent call last)",
      "\u001b[0;32m<ipython-input-69-3921ef460b98>\u001b[0m in \u001b[0;36m<module>\u001b[0;34m()\u001b[0m\n\u001b[1;32m      1\u001b[0m \u001b[0;31m# Read annotation and its header\u001b[0m\u001b[0;34m\u001b[0m\u001b[0;34m\u001b[0m\u001b[0m\n\u001b[0;32m----> 2\u001b[0;31m \u001b[0mf\u001b[0m \u001b[0;34m=\u001b[0m \u001b[0mopen\u001b[0m\u001b[0;34m(\u001b[0m\u001b[0mann_fnames\u001b[0m\u001b[0;34m[\u001b[0m\u001b[0mi\u001b[0m\u001b[0;34m]\u001b[0m\u001b[0;34m,\u001b[0m \u001b[0;34m'r'\u001b[0m\u001b[0;34m)\u001b[0m\u001b[0;34m\u001b[0m\u001b[0m\n\u001b[0m\u001b[1;32m      3\u001b[0m \u001b[0mreader_ann\u001b[0m \u001b[0;34m=\u001b[0m \u001b[0mdhedfreader\u001b[0m\u001b[0;34m.\u001b[0m\u001b[0mBaseEDFReader\u001b[0m\u001b[0;34m(\u001b[0m\u001b[0mf\u001b[0m\u001b[0;34m)\u001b[0m\u001b[0;34m\u001b[0m\u001b[0m\n\u001b[1;32m      4\u001b[0m \u001b[0mreader_ann\u001b[0m\u001b[0;34m.\u001b[0m\u001b[0mread_header\u001b[0m\u001b[0;34m(\u001b[0m\u001b[0;34m)\u001b[0m\u001b[0;34m\u001b[0m\u001b[0m\n\u001b[1;32m      5\u001b[0m \u001b[0mh_ann\u001b[0m \u001b[0;34m=\u001b[0m \u001b[0mreader_ann\u001b[0m\u001b[0;34m.\u001b[0m\u001b[0mheader\u001b[0m\u001b[0;34m\u001b[0m\u001b[0m\n",
      "\u001b[0;31mNameError\u001b[0m: name 'ann_fnames' is not defined"
     ]
    }
   ],
   "source": [
    "# Read annotation and its header\n",
    "f = open(ann_fnames[i], 'r')\n",
    "reader_ann = dhedfreader.BaseEDFReader(f)\n",
    "reader_ann.read_header()\n",
    "h_ann = reader_ann.header"
   ]
  },
  {
   "cell_type": "code",
   "execution_count": null,
   "metadata": {},
   "outputs": [],
   "source": []
  }
 ],
 "metadata": {
  "kernelspec": {
   "display_name": "Python 2",
   "language": "python",
   "name": "python2"
  },
  "language_info": {
   "codemirror_mode": {
    "name": "ipython",
    "version": 2
   },
   "file_extension": ".py",
   "mimetype": "text/x-python",
   "name": "python",
   "nbconvert_exporter": "python",
   "pygments_lexer": "ipython2",
   "version": "2.7.15"
  }
 },
 "nbformat": 4,
 "nbformat_minor": 2
}
